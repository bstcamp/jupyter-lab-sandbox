{
 "cells": [
  {
   "cell_type": "code",
   "execution_count": null,
   "id": "b416ec84-90ce-49c5-bfa0-3387ed12395e",
   "metadata": {},
   "outputs": [],
   "source": [
    "require 'matplotlib/iruby'\n",
    "Matplotlib::IRuby.activate\n",
    "\n",
    "plt = Matplotlib::Pyplot\n",
    "\n",
    "iterations = 3\n",
    "steps = 100\n",
    "range = (1..steps * iterations).to_a\n",
    "\n",
    "sin = range.map {|i| Math.sin(Math::PI * i / steps)}\n",
    "cos = range.map {|i| Math.cos(Math::PI * i / steps)}\n",
    "\n",
    "plt.plot range, sin, cos\n",
    "plt.show"
   ]
  }
 ],
 "metadata": {
  "kernelspec": {
   "display_name": "Ruby 3.1.2",
   "language": "ruby",
   "name": "ruby"
  },
  "language_info": {
   "file_extension": ".rb",
   "mimetype": "application/x-ruby",
   "name": "ruby",
   "version": "3.1.2"
  }
 },
 "nbformat": 4,
 "nbformat_minor": 5
}
